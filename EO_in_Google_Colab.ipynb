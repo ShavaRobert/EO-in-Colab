{
  "cells": [
    {
      "cell_type": "markdown",
      "metadata": {
        "id": "view-in-github",
        "colab_type": "text"
      },
      "source": [
        "<a href=\"https://colab.research.google.com/github/ShavaRobert/EO-in-Colab/blob/main/EO_in_Google_Colab.ipynb\" target=\"_parent\"><img src=\"https://colab.research.google.com/assets/colab-badge.svg\" alt=\"Open In Colab\"/></a>"
      ]
    },
    {
      "cell_type": "markdown",
      "metadata": {
        "id": "WnSbN85Jy-q-"
      },
      "source": [
        "## Google Earth Engine (GEE)\n",
        "\n",
        "\n",
        "GEE is a cloud-based platform for massive-scale analysis of geospatial data. GEE allows users access to a petabyte-scale archive of publicly available remotely sensed imagery, ancillary data and computational tools to accomplish a myriad of remote sensing and geospatial tasks at unprecedented speeds and scales. GEE is free for non-commercial use provided users sign up for a GEE account.\n",
        "\n",
        "## Earth Engine APIs\n",
        "\n",
        "Earth Engine is available through  JavaScript and Python Application Program Interfaces (APIs). The JavaScript API is accessible via a web-based Integrated Development Environment (IDE) called the Code Editor. Through  this platform users can write and execute scripts to share and repeat geospatial analysis and processing workflows. To access Code Editor one can navigate to [https://code.earthengine.google.com/](https://code.earthengine.google.com/) on Google Chrome web browser. The Python API alternative to Earth Engine Javascript API is Google Colaboratory.\n",
        "\n",
        "## Google Colaboratory 'Colab'\n",
        "\n",
        "Colaboratory, or \"Colab\" for short, allows you to write and execute Python directly in your browser, with Zero configuration required, Free access to GPUs, and Easy sharing. The [Welcome to Colaboratory](https://colab.research.google.com/notebooks/intro.ipynb?utm_source=scs-index#scrollTo=GJBs_flRovLc) document has all the necessary info to get started.\n",
        "\n",
        "\n",
        "### Accounts\n",
        "\n",
        "#### Google:\n",
        "\n",
        "To get started with Colab, you will need a [Google Account](https://accounts.google.com/signup/v2/webcreateaccount?flowName=GlifWebSignIn&flowEntry=SignUp). This can be @gmail or an institution/custom google account. You will use this account to access Google Drive, Google Colab, and activate Google Earth Engine.\n",
        "To use the ONS google account, you will require a Google Cloud Titan security key to access the EE code editor. One can obtain this key through ONS Service Desk. \n",
        "\n",
        "\n",
        "#### Google Earth Engine:\n",
        "\n",
        "You wil also need an account for Google Earth Engine. You can [sign up here](https://accounts.google.com/ServiceLogin/webreauth?service=ah&passive=true&continue=https%3A%2F%2Fuc.appengine.google.com%2F_ah%2Fconflogin%3Fcontinue%3Dhttps%3A%2F%2Fsignup.earthengine.google.com%2F&flowName=GlifWebSignIn&flowEntry=ServiceLogin), using your Google Account from the previous step to link everything together nicely. \n",
        "\n",
        "\n"
      ]
    },
    {
      "cell_type": "markdown",
      "metadata": {
        "id": "XuDMyeCdteDa"
      },
      "source": [
        "\n",
        "## Connections\n",
        "\n",
        "#### Connect Google Drive:\n",
        "\n",
        "You can access files in Drive in a number of ways, including:\n",
        "\n",
        "- Mounting your Google Drive in the runtime's virtual machine\n",
        "- Using a wrapper around the API such as [PyDrive](https://pythonhosted.org/PyDrive/)\n",
        "- Using the [native REST API](https://developers.google.com/drive/api/v3/about-sdk)\n",
        "\n",
        "The example below shows how to mount your Google Drive on your runtime using an authorization code. \n",
        "Run the code block below. The output will show a link you have to open, copy the code from the page that loads and paste back into a cell provided."
      ]
    },
    {
      "cell_type": "markdown",
      "metadata": {
        "id": "n7144dX7ufsa"
      },
      "source": [
        "### Mount Google Drive"
      ]
    },
    {
      "cell_type": "code",
      "execution_count": null,
      "metadata": {
        "colab": {
          "base_uri": "https://localhost:8080/"
        },
        "id": "uJT0HarWzGXl",
        "outputId": "d716e59b-0298-4e10-fbc7-90b9e252a34a"
      },
      "outputs": [
        {
          "name": "stdout",
          "output_type": "stream",
          "text": [
            "Mounted at /content/gdrive/\n"
          ]
        }
      ],
      "source": [
        "# Connect Google Drive\n",
        "from google.colab import drive\n",
        "drive.mount('/content/gdrive/', force_remount=True)"
      ]
    },
    {
      "cell_type": "markdown",
      "metadata": {
        "id": "lmmUm2Ym1bJk"
      },
      "source": [
        "**Explore your drive**    \n",
        "\n",
        "Now that you've connected (mounted) google drive to your session, you can access it as a local disk.\n",
        "\n",
        "Explore using python to list files:"
      ]
    },
    {
      "cell_type": "code",
      "execution_count": null,
      "metadata": {
        "colab": {
          "base_uri": "https://localhost:8080/"
        },
        "id": "WsNBmhLa1JfZ",
        "outputId": "1c278280-73c0-4800-daef-2b1a4bb1fce7"
      },
      "outputs": [
        {
          "name": "stdout",
          "output_type": "stream",
          "text": [
            "['How to get started with Drive.pdf', 'Countries_Dec2020_UK_BFC.shp', 'Colab Notebooks', 'content drive My Drive Colab Notebooks data', 'Google Earth', 'CountriesDec20_ukBFC.gsheet']\n",
            "/content\n",
            "['data', 'MapVisualisation.ipynb', 'Untitled0.ipynb', 'geemap.ipynb', 'Untitled1.ipynb', 'Copy of sdg-15-1-1.ipynb', 'sdg-15-1-1.ipynb', 'EO_in_Google_Colab.ipynb']\n"
          ]
        }
      ],
      "source": [
        "import os\n",
        "\n",
        "# list the folders and files in your drive\n",
        "mydrive = '/content/gdrive/My Drive'\n",
        "colab = '/content/gdrive/My Drive/Colab Notebooks'\n",
        "print(os.listdir(mydrive))\n",
        "\n",
        "# list the current working directory\n",
        "print(os.getcwd())\n",
        "\n",
        "# # create a sub-folder called data under your 'Colab Notebooks'\n",
        "data_folder = os.path.join(colab,'data')\n",
        "os.path.isdir(data_folder)\n",
        "if (not os.path.isdir(data_folder)):\n",
        "  os.mkdir(data_folder)\n",
        "# list the contents\n",
        "print(os.listdir(colab))\n",
        "\n",
        "# root directory for outputs is set to your google drive\n",
        "my_root_dir = \"/content/gdrive/My Drive/Colab Notebooks/data\""
      ]
    },
    {
      "cell_type": "markdown",
      "metadata": {
        "id": "-hwvOTZA1psn"
      },
      "source": [
        "### Import, Authenticate and Initialize Earth Engine API\n",
        "\n",
        "The Earth Engine API (ee) is installed by default in Google Colab so requires only importing and authenticating. These steps must be completed for each new Colab session, if you restart your Colab kernel, or if your Colab virtual machine is recycled due to inactivity."
      ]
    },
    {
      "cell_type": "code",
      "execution_count": null,
      "metadata": {
        "colab": {
          "background_save": true,
          "base_uri": "https://localhost:8080/"
        },
        "id": "cFnSewu41s70",
        "outputId": "f82d851f-93a0-43cd-85bb-931a2493f1a8"
      },
      "outputs": [
        {
          "name": "stdout",
          "output_type": "stream",
          "text": [
            "Requirement already satisfied: earthengine-api in /usr/local/lib/python3.7/dist-packages (0.1.307)\n",
            "Requirement already satisfied: httplib2<1dev,>=0.9.2 in /usr/local/lib/python3.7/dist-packages (from earthengine-api) (0.17.4)\n",
            "Requirement already satisfied: six in /usr/local/lib/python3.7/dist-packages (from earthengine-api) (1.15.0)\n",
            "Requirement already satisfied: future in /usr/local/lib/python3.7/dist-packages (from earthengine-api) (0.16.0)\n",
            "Requirement already satisfied: google-cloud-storage in /usr/local/lib/python3.7/dist-packages (from earthengine-api) (1.18.1)\n",
            "Requirement already satisfied: google-auth-httplib2>=0.0.3 in /usr/local/lib/python3.7/dist-packages (from earthengine-api) (0.0.4)\n",
            "Requirement already satisfied: httplib2shim in /usr/local/lib/python3.7/dist-packages (from earthengine-api) (0.0.3)\n",
            "Requirement already satisfied: google-auth>=1.4.1 in /usr/local/lib/python3.7/dist-packages (from earthengine-api) (1.35.0)\n",
            "Requirement already satisfied: google-api-python-client<2,>=1.12.1 in /usr/local/lib/python3.7/dist-packages (from earthengine-api) (1.12.11)\n",
            "Requirement already satisfied: uritemplate<4dev,>=3.0.0 in /usr/local/lib/python3.7/dist-packages (from google-api-python-client<2,>=1.12.1->earthengine-api) (3.0.1)\n",
            "Requirement already satisfied: google-api-core<3dev,>=1.21.0 in /usr/local/lib/python3.7/dist-packages (from google-api-python-client<2,>=1.12.1->earthengine-api) (1.31.5)\n",
            "Requirement already satisfied: packaging>=14.3 in /usr/local/lib/python3.7/dist-packages (from google-api-core<3dev,>=1.21.0->google-api-python-client<2,>=1.12.1->earthengine-api) (21.3)\n",
            "Requirement already satisfied: protobuf>=3.12.0 in /usr/local/lib/python3.7/dist-packages (from google-api-core<3dev,>=1.21.0->google-api-python-client<2,>=1.12.1->earthengine-api) (3.17.3)\n",
            "Requirement already satisfied: requests<3.0.0dev,>=2.18.0 in /usr/local/lib/python3.7/dist-packages (from google-api-core<3dev,>=1.21.0->google-api-python-client<2,>=1.12.1->earthengine-api) (2.23.0)\n",
            "Requirement already satisfied: pytz in /usr/local/lib/python3.7/dist-packages (from google-api-core<3dev,>=1.21.0->google-api-python-client<2,>=1.12.1->earthengine-api) (2022.1)\n",
            "Requirement already satisfied: googleapis-common-protos<2.0dev,>=1.6.0 in /usr/local/lib/python3.7/dist-packages (from google-api-core<3dev,>=1.21.0->google-api-python-client<2,>=1.12.1->earthengine-api) (1.56.0)\n",
            "Requirement already satisfied: setuptools>=40.3.0 in /usr/local/lib/python3.7/dist-packages (from google-api-core<3dev,>=1.21.0->google-api-python-client<2,>=1.12.1->earthengine-api) (57.4.0)\n",
            "Requirement already satisfied: cachetools<5.0,>=2.0.0 in /usr/local/lib/python3.7/dist-packages (from google-auth>=1.4.1->earthengine-api) (4.2.4)\n",
            "Requirement already satisfied: pyasn1-modules>=0.2.1 in /usr/local/lib/python3.7/dist-packages (from google-auth>=1.4.1->earthengine-api) (0.2.8)\n",
            "Requirement already satisfied: rsa<5,>=3.1.4 in /usr/local/lib/python3.7/dist-packages (from google-auth>=1.4.1->earthengine-api) (4.8)\n",
            "Requirement already satisfied: pyparsing!=3.0.5,>=2.0.2 in /usr/local/lib/python3.7/dist-packages (from packaging>=14.3->google-api-core<3dev,>=1.21.0->google-api-python-client<2,>=1.12.1->earthengine-api) (3.0.8)\n",
            "Requirement already satisfied: pyasn1<0.5.0,>=0.4.6 in /usr/local/lib/python3.7/dist-packages (from pyasn1-modules>=0.2.1->google-auth>=1.4.1->earthengine-api) (0.4.8)\n",
            "Requirement already satisfied: certifi>=2017.4.17 in /usr/local/lib/python3.7/dist-packages (from requests<3.0.0dev,>=2.18.0->google-api-core<3dev,>=1.21.0->google-api-python-client<2,>=1.12.1->earthengine-api) (2021.10.8)\n",
            "Requirement already satisfied: idna<3,>=2.5 in /usr/local/lib/python3.7/dist-packages (from requests<3.0.0dev,>=2.18.0->google-api-core<3dev,>=1.21.0->google-api-python-client<2,>=1.12.1->earthengine-api) (2.10)\n",
            "Requirement already satisfied: urllib3!=1.25.0,!=1.25.1,<1.26,>=1.21.1 in /usr/local/lib/python3.7/dist-packages (from requests<3.0.0dev,>=2.18.0->google-api-core<3dev,>=1.21.0->google-api-python-client<2,>=1.12.1->earthengine-api) (1.24.3)\n",
            "Requirement already satisfied: chardet<4,>=3.0.2 in /usr/local/lib/python3.7/dist-packages (from requests<3.0.0dev,>=2.18.0->google-api-core<3dev,>=1.21.0->google-api-python-client<2,>=1.12.1->earthengine-api) (3.0.4)\n",
            "Requirement already satisfied: google-cloud-core<2.0dev,>=1.0.0 in /usr/local/lib/python3.7/dist-packages (from google-cloud-storage->earthengine-api) (1.0.3)\n",
            "Requirement already satisfied: google-resumable-media<0.5.0dev,>=0.3.1 in /usr/local/lib/python3.7/dist-packages (from google-cloud-storage->earthengine-api) (0.4.1)\n",
            "To authorize access needed by Earth Engine, open the following URL in a web browser and follow the instructions. If the web browser does not start automatically, please manually browse the URL below.\n",
            "\n",
            "    https://code.earthengine.google.com/client-auth?scopes=https%3A//www.googleapis.com/auth/earthengine%20https%3A//www.googleapis.com/auth/devstorage.full_control&request_id=GjRgDVezghHiGKwL2Tufyi7em3JcPMM0pvOxzFjJra4&tc=8t8v8GDwPcj7krZ8e2ltyTP2io23YgH7LvrNtYB8Hdw&cc=XgjG58y2LH-pjdKAf0luR6vgkkFi1lDm4mGs3tkrOyI\n",
            "\n",
            "The authorization workflow will generate a code, which you should paste in the box below. \n"
          ]
        }
      ],
      "source": [
        "# If not on Colab you'll need to install the earth-engine Python API\n",
        "!pip install earthengine-api #earth-engine Python API\n",
        "\n",
        "# import Python API. \n",
        "import ee\n",
        "\n",
        "# Athenticate to EE servers. \n",
        "ee.Authenticate()\n",
        "\n",
        "# Initialize the API\n",
        "ee.Initialize()"
      ]
    },
    {
      "cell_type": "markdown",
      "metadata": {
        "id": "KF_LgVxy2Jw0"
      },
      "source": [
        "### Install packages and libraries\n",
        "\n"
      ]
    },
    {
      "cell_type": "code",
      "execution_count": null,
      "metadata": {
        "colab": {
          "base_uri": "https://localhost:8080/"
        },
        "id": "qrwe3QRM13py",
        "outputId": "79d8afb0-6625-4496-e3ce-ddc93e84fb56"
      },
      "outputs": [
        {
          "name": "stdout",
          "output_type": "stream",
          "text": [
            "Collecting geopandas\n",
            "  Downloading geopandas-0.10.2-py2.py3-none-any.whl (1.0 MB)\n",
            "\u001b[K     |████████████████████████████████| 1.0 MB 4.3 MB/s \n",
            "\u001b[?25hCollecting rasterio\n",
            "  Downloading rasterio-1.2.10-cp37-cp37m-manylinux1_x86_64.whl (19.3 MB)\n",
            "\u001b[K     |████████████████████████████████| 19.3 MB 1.2 MB/s \n",
            "\u001b[?25hCollecting rasterstats\n",
            "  Downloading rasterstats-0.16.0-py3-none-any.whl (16 kB)\n",
            "Requirement already satisfied: shapely in /usr/local/lib/python3.7/dist-packages (1.8.1.post1)\n",
            "Collecting pyproj>=2.2.0\n",
            "  Downloading pyproj-3.2.1-cp37-cp37m-manylinux2010_x86_64.whl (6.3 MB)\n",
            "\u001b[K     |████████████████████████████████| 6.3 MB 47.8 MB/s \n",
            "\u001b[?25hCollecting fiona>=1.8\n",
            "  Downloading Fiona-1.8.21-cp37-cp37m-manylinux2014_x86_64.whl (16.7 MB)\n",
            "\u001b[K     |████████████████████████████████| 16.7 MB 440 kB/s \n",
            "\u001b[?25hRequirement already satisfied: pandas>=0.25.0 in /usr/local/lib/python3.7/dist-packages (from geopandas) (1.3.5)\n",
            "Requirement already satisfied: click>=4.0 in /usr/local/lib/python3.7/dist-packages (from fiona>=1.8->geopandas) (7.1.2)\n",
            "Collecting cligj>=0.5\n",
            "  Downloading cligj-0.7.2-py3-none-any.whl (7.1 kB)\n",
            "Requirement already satisfied: certifi in /usr/local/lib/python3.7/dist-packages (from fiona>=1.8->geopandas) (2021.10.8)\n",
            "Collecting munch\n",
            "  Downloading munch-2.5.0-py2.py3-none-any.whl (10 kB)\n",
            "Requirement already satisfied: setuptools in /usr/local/lib/python3.7/dist-packages (from fiona>=1.8->geopandas) (57.4.0)\n",
            "Requirement already satisfied: six>=1.7 in /usr/local/lib/python3.7/dist-packages (from fiona>=1.8->geopandas) (1.15.0)\n",
            "Collecting click-plugins>=1.0\n",
            "  Downloading click_plugins-1.1.1-py2.py3-none-any.whl (7.5 kB)\n",
            "Requirement already satisfied: attrs>=17 in /usr/local/lib/python3.7/dist-packages (from fiona>=1.8->geopandas) (21.4.0)\n",
            "Requirement already satisfied: pytz>=2017.3 in /usr/local/lib/python3.7/dist-packages (from pandas>=0.25.0->geopandas) (2018.9)\n",
            "Requirement already satisfied: numpy>=1.17.3 in /usr/local/lib/python3.7/dist-packages (from pandas>=0.25.0->geopandas) (1.21.5)\n",
            "Requirement already satisfied: python-dateutil>=2.7.3 in /usr/local/lib/python3.7/dist-packages (from pandas>=0.25.0->geopandas) (2.8.2)\n",
            "Collecting affine\n",
            "  Downloading affine-2.3.1-py2.py3-none-any.whl (16 kB)\n",
            "Collecting snuggs>=1.4.1\n",
            "  Downloading snuggs-1.4.7-py3-none-any.whl (5.4 kB)\n",
            "Requirement already satisfied: pyparsing>=2.1.6 in /usr/local/lib/python3.7/dist-packages (from snuggs>=1.4.1->rasterio) (3.0.7)\n",
            "Collecting simplejson\n",
            "  Downloading simplejson-3.17.6-cp37-cp37m-manylinux_2_5_x86_64.manylinux1_x86_64.manylinux_2_12_x86_64.manylinux2010_x86_64.whl (130 kB)\n",
            "\u001b[K     |████████████████████████████████| 130 kB 56.6 MB/s \n",
            "\u001b[?25hInstalling collected packages: snuggs, munch, cligj, click-plugins, affine, simplejson, rasterio, pyproj, fiona, rasterstats, geopandas\n",
            "Successfully installed affine-2.3.1 click-plugins-1.1.1 cligj-0.7.2 fiona-1.8.21 geopandas-0.10.2 munch-2.5.0 pyproj-3.2.1 rasterio-1.2.10 rasterstats-0.16.0 simplejson-3.17.6 snuggs-1.4.7\n",
            "Requirement already satisfied: folium in /usr/local/lib/python3.7/dist-packages (0.8.3)\n",
            "Requirement already satisfied: branca>=0.3.0 in /usr/local/lib/python3.7/dist-packages (from folium) (0.4.2)\n",
            "Requirement already satisfied: numpy in /usr/local/lib/python3.7/dist-packages (from folium) (1.21.5)\n",
            "Requirement already satisfied: jinja2 in /usr/local/lib/python3.7/dist-packages (from folium) (2.11.3)\n",
            "Requirement already satisfied: six in /usr/local/lib/python3.7/dist-packages (from folium) (1.15.0)\n",
            "Requirement already satisfied: requests in /usr/local/lib/python3.7/dist-packages (from folium) (2.23.0)\n",
            "Requirement already satisfied: MarkupSafe>=0.23 in /usr/local/lib/python3.7/dist-packages (from jinja2->folium) (2.0.1)\n",
            "Requirement already satisfied: chardet<4,>=3.0.2 in /usr/local/lib/python3.7/dist-packages (from requests->folium) (3.0.4)\n",
            "Requirement already satisfied: idna<3,>=2.5 in /usr/local/lib/python3.7/dist-packages (from requests->folium) (2.10)\n",
            "Requirement already satisfied: urllib3!=1.25.0,!=1.25.1,<1.26,>=1.21.1 in /usr/local/lib/python3.7/dist-packages (from requests->folium) (1.24.3)\n",
            "Requirement already satisfied: certifi>=2017.4.17 in /usr/local/lib/python3.7/dist-packages (from requests->folium) (2021.10.8)\n"
          ]
        }
      ],
      "source": [
        "# Install packages\n",
        "%pip install geopandas rasterio rasterstats shapely\n",
        "%pip install folium "
      ]
    },
    {
      "cell_type": "markdown",
      "metadata": {
        "id": "NKMrnvBu2VuF"
      },
      "source": [
        "**Import libraries**"
      ]
    },
    {
      "cell_type": "code",
      "execution_count": null,
      "metadata": {
        "id": "sCyqB_w_2GT8"
      },
      "outputs": [],
      "source": [
        "# import required libraries \n",
        "\n",
        "from os import path as op\n",
        "import pickle\n",
        "\n",
        "import geopandas as gpd\n",
        "import shapely as shp\n",
        "import matplotlib.pyplot as plt\n",
        "import numpy as np\n",
        "import rasterio as rio\n",
        "from rasterio.features import rasterize\n",
        "from rasterstats.io import bounds_window\n",
        "import rasterstats\n",
        "import folium"
      ]
    },
    {
      "cell_type": "markdown",
      "metadata": {
        "id": "004MJ4BUZNuA"
      },
      "source": [
        "### Do a search\n",
        "Let's query Earth Engine [data collections] by looking for Imagery of UK.\n",
        "\n",
        "We are going to:\n",
        "\n",
        "Define a bounding box or center point  using [geojson.io](https://geojson.io/#map=6/54.489/-3.922)     \n",
        "Identify the collection   \n",
        "Query and create an ImageCollection   \n",
        "Display on a map   \n",
        "Export   ?     \n",
        "Reload Raster and Explore  ? "
      ]
    },
    {
      "cell_type": "code",
      "execution_count": null,
      "metadata": {
        "id": "dweF03oParrL"
      },
      "outputs": [],
      "source": [
        "# Define  bounding box using \n",
        "\n",
        "# Make sure we have the libraries we need\n",
        "# %pip install folium\n",
        "# %pip install geopandas\n",
        "\n"
      ]
    },
    {
      "cell_type": "code",
      "execution_count": null,
      "metadata": {
        "colab": {
          "base_uri": "https://localhost:8080/"
        },
        "id": "hLkyRARNaV50",
        "outputId": "64f24af8-6f5a-45c0-e28d-1e44558a2820"
      },
      "outputs": [
        {
          "name": "stdout",
          "output_type": "stream",
          "text": [
            "                                            geometry\n",
            "0  POLYGON ((-2.06543 61.14324, -5.18555 60.34870...\n",
            "[-10.10742187  49.78126406   2.59277344  61.33353967]\n"
          ]
        },
        {
          "name": "stderr",
          "output_type": "stream",
          "text": [
            "/usr/local/lib/python3.7/dist-packages/ipykernel_launcher.py:81: UserWarning: Geometry is in a geographic CRS. Results from 'centroid' are likely incorrect. Use 'GeoSeries.to_crs()' to re-project geometries to a projected CRS before this operation.\n",
            "\n"
          ]
        }
      ],
      "source": [
        "# Paste the Geojson from geojsonio\n",
        "aoi_geojson = '''{\n",
        "  \"type\": \"FeatureCollection\",\n",
        "  \"features\": [\n",
        "    {\n",
        "      \"type\": \"Feature\",\n",
        "      \"properties\": {},\n",
        "      \"geometry\": {\n",
        "        \"type\": \"Polygon\",\n",
        "        \"coordinates\": [\n",
        "          [\n",
        "            [\n",
        "              -2.0654296875,\n",
        "              61.14323525084058\n",
        "            ],\n",
        "            [\n",
        "              -5.185546875,\n",
        "              60.34869562531862\n",
        "            ],\n",
        "            [\n",
        "              -7.9541015625,\n",
        "              58.37867853932655\n",
        "            ],\n",
        "            [\n",
        "              -10.107421874999998,\n",
        "              54.39335222384589\n",
        "            ],\n",
        "            [\n",
        "              -6.3720703125,\n",
        "              53.461890432859114\n",
        "            ],\n",
        "            [\n",
        "              -6.943359374999999,\n",
        "              49.781264058178344\n",
        "            ],\n",
        "            [\n",
        "              -2.197265625,\n",
        "              50.00773901463687\n",
        "            ],\n",
        "            [\n",
        "              1.9335937499999998,\n",
        "              51.17934297928927\n",
        "            ],\n",
        "            [\n",
        "              2.5927734375,\n",
        "              52.82932091031373\n",
        "            ],\n",
        "            [\n",
        "              -0.48339843749999994,\n",
        "              55.99838095535963\n",
        "            ],\n",
        "            [\n",
        "              -1.3623046875,\n",
        "              58.65408464530598\n",
        "            ],\n",
        "            [\n",
        "              0.52734375,\n",
        "              61.33353967329144\n",
        "            ],\n",
        "            [\n",
        "              -2.0654296875,\n",
        "              61.14323525084058\n",
        "            ]\n",
        "          ]\n",
        "        ]\n",
        "      }\n",
        "    }\n",
        "  ]\n",
        "}'''\n",
        "\n",
        "# Now let's read the geojson into a GeoPandasDataframe\n",
        "aoi = gpd.read_file(aoi_geojson)\n",
        "print(aoi) # so we can see what it looks like\n",
        "\n",
        "#Get the bounding box\n",
        "bbox = aoi.total_bounds\n",
        "print(bbox) # see the coordinates\n",
        "\n",
        "#Make it a GEE rectangle\n",
        "gee_aoi = ee.Geometry.Rectangle(bbox.tolist())\n",
        "center = aoi.centroid[0]"
      ]
    },
    {
      "cell_type": "code",
      "execution_count": null,
      "metadata": {
        "colab": {
          "base_uri": "https://localhost:8080/",
          "height": 876
        },
        "id": "hr2pW5UBa2lZ",
        "outputId": "346ca1af-0b97-478b-afb9-de40cbe7aa10"
      },
      "outputs": [
        {
          "data": {
            "text/html": [
              "<div style=\"width:100%;\"><div style=\"position:relative;width:100%;height:0;padding-bottom:60%;\"><span style=\"color:#565656\">Make this Notebook Trusted to load map: File -> Trust Notebook</span><iframe src=\"about:blank\" style=\"position:absolute;width:100%;height:100%;left:0;top:0;border:none !important;\" data-html=%3C%21DOCTYPE%20html%3E%0A%3Chead%3E%20%20%20%20%0A%20%20%20%20%3Cmeta%20http-equiv%3D%22content-type%22%20content%3D%22text/html%3B%20charset%3DUTF-8%22%20/%3E%0A%20%20%20%20%3Cscript%3EL_PREFER_CANVAS%3Dfalse%3B%20L_NO_TOUCH%3Dfalse%3B%20L_DISABLE_3D%3Dfalse%3B%3C/script%3E%0A%20%20%20%20%3Cscript%20src%3D%22https%3A//cdn.jsdelivr.net/npm/leaflet%401.4.0/dist/leaflet.js%22%3E%3C/script%3E%0A%20%20%20%20%3Cscript%20src%3D%22https%3A//code.jquery.com/jquery-1.12.4.min.js%22%3E%3C/script%3E%0A%20%20%20%20%3Cscript%20src%3D%22https%3A//maxcdn.bootstrapcdn.com/bootstrap/3.2.0/js/bootstrap.min.js%22%3E%3C/script%3E%0A%20%20%20%20%3Cscript%20src%3D%22https%3A//cdnjs.cloudflare.com/ajax/libs/Leaflet.awesome-markers/2.0.2/leaflet.awesome-markers.js%22%3E%3C/script%3E%0A%20%20%20%20%3Clink%20rel%3D%22stylesheet%22%20href%3D%22https%3A//cdn.jsdelivr.net/npm/leaflet%401.4.0/dist/leaflet.css%22/%3E%0A%20%20%20%20%3Clink%20rel%3D%22stylesheet%22%20href%3D%22https%3A//maxcdn.bootstrapcdn.com/bootstrap/3.2.0/css/bootstrap.min.css%22/%3E%0A%20%20%20%20%3Clink%20rel%3D%22stylesheet%22%20href%3D%22https%3A//maxcdn.bootstrapcdn.com/bootstrap/3.2.0/css/bootstrap-theme.min.css%22/%3E%0A%20%20%20%20%3Clink%20rel%3D%22stylesheet%22%20href%3D%22https%3A//maxcdn.bootstrapcdn.com/font-awesome/4.6.3/css/font-awesome.min.css%22/%3E%0A%20%20%20%20%3Clink%20rel%3D%22stylesheet%22%20href%3D%22https%3A//cdnjs.cloudflare.com/ajax/libs/Leaflet.awesome-markers/2.0.2/leaflet.awesome-markers.css%22/%3E%0A%20%20%20%20%3Clink%20rel%3D%22stylesheet%22%20href%3D%22https%3A//rawcdn.githack.com/python-visualization/folium/master/folium/templates/leaflet.awesome.rotate.css%22/%3E%0A%20%20%20%20%3Cstyle%3Ehtml%2C%20body%20%7Bwidth%3A%20100%25%3Bheight%3A%20100%25%3Bmargin%3A%200%3Bpadding%3A%200%3B%7D%3C/style%3E%0A%20%20%20%20%3Cstyle%3E%23map%20%7Bposition%3Aabsolute%3Btop%3A0%3Bbottom%3A0%3Bright%3A0%3Bleft%3A0%3B%7D%3C/style%3E%0A%20%20%20%20%0A%20%20%20%20%3Cmeta%20name%3D%22viewport%22%20content%3D%22width%3Ddevice-width%2C%0A%20%20%20%20%20%20%20%20initial-scale%3D1.0%2C%20maximum-scale%3D1.0%2C%20user-scalable%3Dno%22%20/%3E%0A%20%20%20%20%3Cstyle%3E%23map_115000e222b7413b9b52f4443f7660be%20%7B%0A%20%20%20%20%20%20%20%20position%3A%20relative%3B%0A%20%20%20%20%20%20%20%20width%3A%20100.0%25%3B%0A%20%20%20%20%20%20%20%20height%3A%20100.0%25%3B%0A%20%20%20%20%20%20%20%20left%3A%200.0%25%3B%0A%20%20%20%20%20%20%20%20top%3A%200.0%25%3B%0A%20%20%20%20%20%20%20%20%7D%0A%20%20%20%20%3C/style%3E%0A%3C/head%3E%0A%3Cbody%3E%20%20%20%20%0A%20%20%20%20%0A%20%20%20%20%3Cdiv%20class%3D%22folium-map%22%20id%3D%22map_115000e222b7413b9b52f4443f7660be%22%20%3E%3C/div%3E%0A%3C/body%3E%0A%3Cscript%3E%20%20%20%20%0A%20%20%20%20%0A%20%20%20%20%0A%20%20%20%20%20%20%20%20var%20bounds%20%3D%20null%3B%0A%20%20%20%20%0A%0A%20%20%20%20var%20map_115000e222b7413b9b52f4443f7660be%20%3D%20L.map%28%0A%20%20%20%20%20%20%20%20%27map_115000e222b7413b9b52f4443f7660be%27%2C%20%7B%0A%20%20%20%20%20%20%20%20center%3A%20%5B55.10098017338726%2C%20-3.6240538279249717%5D%2C%0A%20%20%20%20%20%20%20%20zoom%3A%206%2C%0A%20%20%20%20%20%20%20%20maxBounds%3A%20bounds%2C%0A%20%20%20%20%20%20%20%20layers%3A%20%5B%5D%2C%0A%20%20%20%20%20%20%20%20worldCopyJump%3A%20false%2C%0A%20%20%20%20%20%20%20%20crs%3A%20L.CRS.EPSG3857%2C%0A%20%20%20%20%20%20%20%20zoomControl%3A%20true%2C%0A%20%20%20%20%20%20%20%20%7D%29%3B%0A%0A%0A%20%20%20%20%0A%20%20%20%20var%20tile_layer_6a5504ba6f0c449297c61d9c0889ca7f%20%3D%20L.tileLayer%28%0A%20%20%20%20%20%20%20%20%27https%3A//%7Bs%7D.tile.openstreetmap.org/%7Bz%7D/%7Bx%7D/%7By%7D.png%27%2C%0A%20%20%20%20%20%20%20%20%7B%0A%20%20%20%20%20%20%20%20%22attribution%22%3A%20null%2C%0A%20%20%20%20%20%20%20%20%22detectRetina%22%3A%20false%2C%0A%20%20%20%20%20%20%20%20%22maxNativeZoom%22%3A%2018%2C%0A%20%20%20%20%20%20%20%20%22maxZoom%22%3A%2018%2C%0A%20%20%20%20%20%20%20%20%22minZoom%22%3A%200%2C%0A%20%20%20%20%20%20%20%20%22noWrap%22%3A%20false%2C%0A%20%20%20%20%20%20%20%20%22opacity%22%3A%201%2C%0A%20%20%20%20%20%20%20%20%22subdomains%22%3A%20%22abc%22%2C%0A%20%20%20%20%20%20%20%20%22tms%22%3A%20false%0A%7D%29.addTo%28map_115000e222b7413b9b52f4443f7660be%29%3B%0A%20%20%20%20%0A%20%20%20%20%20%20%20%20var%20marker_c9c8e0d1260540458045bb56d92751c9%20%3D%20L.marker%28%0A%20%20%20%20%20%20%20%20%20%20%20%20%5B55.10098017338726%2C%20-3.6240538279249717%5D%2C%0A%20%20%20%20%20%20%20%20%20%20%20%20%7B%0A%20%20%20%20%20%20%20%20%20%20%20%20%20%20%20%20icon%3A%20new%20L.Icon.Default%28%29%2C%0A%20%20%20%20%20%20%20%20%20%20%20%20%20%20%20%20%7D%0A%20%20%20%20%20%20%20%20%20%20%20%20%29.addTo%28map_115000e222b7413b9b52f4443f7660be%29%3B%0A%20%20%20%20%20%20%20%20%0A%20%20%20%20%0A%0A%20%20%20%20%20%20%20%20%20%20%20%20%20%20%20%20var%20icon_a738dc00443a4b23907b31e87571f345%20%3D%20L.AwesomeMarkers.icon%28%7B%0A%20%20%20%20%20%20%20%20%20%20%20%20%20%20%20%20%20%20%20%20icon%3A%20%27ok-sign%27%2C%0A%20%20%20%20%20%20%20%20%20%20%20%20%20%20%20%20%20%20%20%20iconColor%3A%20%27white%27%2C%0A%20%20%20%20%20%20%20%20%20%20%20%20%20%20%20%20%20%20%20%20markerColor%3A%20%27green%27%2C%0A%20%20%20%20%20%20%20%20%20%20%20%20%20%20%20%20%20%20%20%20prefix%3A%20%27glyphicon%27%2C%0A%20%20%20%20%20%20%20%20%20%20%20%20%20%20%20%20%20%20%20%20extraClasses%3A%20%27fa-rotate-0%27%0A%20%20%20%20%20%20%20%20%20%20%20%20%20%20%20%20%20%20%20%20%7D%29%3B%0A%20%20%20%20%20%20%20%20%20%20%20%20%20%20%20%20marker_c9c8e0d1260540458045bb56d92751c9.setIcon%28icon_a738dc00443a4b23907b31e87571f345%29%3B%0A%20%20%20%20%20%20%20%20%20%20%20%20%0A%20%20%20%20%0A%20%20%20%20%20%20%20%20%20%20%20%20var%20popup_d9076e4439fb4064bfeb14f27136bd22%20%3D%20L.popup%28%7BmaxWidth%3A%20%27100%25%27%0A%20%20%20%20%20%20%20%20%20%20%20%20%0A%20%20%20%20%20%20%20%20%20%20%20%20%7D%29%3B%0A%0A%20%20%20%20%20%20%20%20%20%20%20%20%0A%20%20%20%20%20%20%20%20%20%20%20%20%20%20%20%20var%20html_a76376c433334214abd21c1f514d58e7%20%3D%20%24%28%60%3Cdiv%20id%3D%22html_a76376c433334214abd21c1f514d58e7%22%20style%3D%22width%3A%20100.0%25%3B%20height%3A%20100.0%25%3B%22%3ECenter%3C/div%3E%60%29%5B0%5D%3B%0A%20%20%20%20%20%20%20%20%20%20%20%20%20%20%20%20popup_d9076e4439fb4064bfeb14f27136bd22.setContent%28html_a76376c433334214abd21c1f514d58e7%29%3B%0A%20%20%20%20%20%20%20%20%20%20%20%20%0A%0A%20%20%20%20%20%20%20%20%20%20%20%20marker_c9c8e0d1260540458045bb56d92751c9.bindPopup%28popup_d9076e4439fb4064bfeb14f27136bd22%29%0A%20%20%20%20%20%20%20%20%20%20%20%20%3B%0A%0A%20%20%20%20%20%20%20%20%20%20%20%20%0A%20%20%20%20%20%20%20%20%0A%20%20%20%20%0A%20%20%20%20%20%20%20%20var%20geo_json_dcf6b4e89207474b94d9ec7d7cccd118%20%3D%20L.geoJson%28%0A%20%20%20%20%20%20%20%20%20%20%20%20%7B%22features%22%3A%20%5B%7B%22geometry%22%3A%20%7B%22coordinates%22%3A%20%5B%5B%5B-2.0654296875%2C%2061.14323525084058%5D%2C%20%5B-5.185546875%2C%2060.34869562531862%5D%2C%20%5B-7.9541015625%2C%2058.37867853932655%5D%2C%20%5B-10.107421874999998%2C%2054.39335222384589%5D%2C%20%5B-6.3720703125%2C%2053.461890432859114%5D%2C%20%5B-6.943359374999999%2C%2049.781264058178344%5D%2C%20%5B-2.197265625%2C%2050.00773901463687%5D%2C%20%5B1.9335937499999998%2C%2051.17934297928927%5D%2C%20%5B2.5927734375%2C%2052.82932091031373%5D%2C%20%5B-0.48339843749999994%2C%2055.99838095535963%5D%2C%20%5B-1.3623046875%2C%2058.65408464530598%5D%2C%20%5B0.52734375%2C%2061.33353967329144%5D%2C%20%5B-2.0654296875%2C%2061.14323525084058%5D%5D%5D%2C%20%22type%22%3A%20%22Polygon%22%7D%2C%20%22properties%22%3A%20%7B%22highlight%22%3A%20%7B%7D%2C%20%22style%22%3A%20%7B%22color%22%3A%20%22blue%22%2C%20%22fillcolor%22%3A%20%22transparent%22%7D%7D%2C%20%22type%22%3A%20%22Feature%22%7D%5D%2C%20%22type%22%3A%20%22FeatureCollection%22%7D%2C%0A%20%20%20%20%20%20%20%20%20%20%20%20%7B%0A%20%20%20%20%20%20%20%20%20%20%20%20%7D%0A%20%20%20%20%20%20%20%20%29.addTo%28map_115000e222b7413b9b52f4443f7660be%20%29%3B%0A%20%20%20%20%20%20%20%20geo_json_dcf6b4e89207474b94d9ec7d7cccd118.setStyle%28function%28feature%29%20%7Breturn%20feature.properties.style%3B%7D%29%3B%0A%20%20%20%20%20%20%20%20%0A%3C/script%3E onload=\"this.contentDocument.open();this.contentDocument.write(    decodeURIComponent(this.getAttribute('data-html')));this.contentDocument.close();\" allowfullscreen webkitallowfullscreen mozallowfullscreen></iframe></div></div>"
            ],
            "text/plain": [
              "<folium.folium.Map at 0x7fc1065f9dd0>"
            ]
          },
          "execution_count": 12,
          "metadata": {},
          "output_type": "execute_result"
        }
      ],
      "source": [
        "# load map\n",
        "\n",
        "uk_osm = folium.Map(location=[center.y, center.x], tiles=\"OpenStreetMap\", zoom_start=6)\n",
        "\n",
        "folium.Marker(\n",
        "    location=[center.y, center.x],\n",
        "    popup='Center',\n",
        "    icon=folium.Icon(color='green', icon='ok-sign'),\n",
        ").add_to(uk_osm)\n",
        "\n",
        "folium.features.GeoJson(aoi_geojson,\n",
        "                        style_function = lambda x: {'color':'blue', 'fillcolor':'transparent'}\n",
        "                        ).add_to(uk_osm)\n",
        "    \n",
        "uk_osm"
      ]
    },
    {
      "cell_type": "markdown",
      "metadata": {
        "id": "dcjJdyvTjlD-"
      },
      "source": [
        "### Query Google Earth Engine\n",
        "Now lets pick a collection of imagery to query for the region. We can choose from anything in the Google Earth Engine [data catalog](https://developers.google.com/earth-engine/datasets/catalog)\n",
        "\n",
        "Let's start with the [Landsat 8 Surface Reflectance](https://developers.google.com/earth-engine/datasets/catalog/LANDSAT_LC08_C02_T1_L2) from 2020, using a cloud mask and selecting the bands to make an R,G,B mosiac"
      ]
    },
    {
      "cell_type": "code",
      "execution_count": null,
      "metadata": {
        "id": "DyWAOheVipRY"
      },
      "outputs": [],
      "source": [
        "# To make a map we first need some helper functions\n",
        "\n",
        "# Define the URL format used for Earth Engine generated map tiles.\n",
        "EE_TILES = 'https://earthengine.googleapis.com/map/{mapid}/{{z}}/{{x}}/{{y}}?token={token}'\n",
        "\n",
        "# map and display \n",
        "def Mapdisplay(center, dicc, Tiles=\"OpensTreetMap\",zoom_start=10):\n",
        "    '''\n",
        "    :param center: Center of the map (Latitude and Longitude).\n",
        "    :param dicc: Earth Engine Geometries or Tiles dictionary\n",
        "    :param Tiles: Mapbox Bright,Mapbox Control Room,Stamen Terrain,Stamen Toner,stamenwatercolor,cartodbpositron.\n",
        "    :zoom_start: Initial zoom level for the map.\n",
        "    :return: A folium.Map object.\n",
        "    '''\n",
        "    mapViz = folium.Map(location=center,tiles=Tiles, zoom_start=zoom_start)\n",
        "    for k,v in dicc.items():\n",
        "      if ee.image.Image in [type(x) for x in v.values()]:\n",
        "        folium.TileLayer(\n",
        "            tiles = v[\"tile_fetcher\"].url_format,\n",
        "            attr  = 'Google Earth Engine',\n",
        "            overlay =True,\n",
        "            name  = k\n",
        "          ).add_to(mapViz)\n",
        "      else:\n",
        "        folium.GeoJson(\n",
        "        data = v,\n",
        "        name = k\n",
        "          ).add_to(mapViz)\n",
        "    mapViz.add_child(folium.LayerControl())\n",
        "    return mapViz"
      ]
    },
    {
      "cell_type": "code",
      "execution_count": null,
      "metadata": {
        "colab": {
          "base_uri": "https://localhost:8080/",
          "height": 231
        },
        "id": "FSGqmcMNkoZu",
        "outputId": "c3664b0a-fab0-4a53-e117-72adebcb0697"
      },
      "outputs": [
        {
          "ename": "NameError",
          "evalue": "ignored",
          "output_type": "error",
          "traceback": [
            "\u001b[0;31m---------------------------------------------------------------------------\u001b[0m",
            "\u001b[0;31mNameError\u001b[0m                                 Traceback (most recent call last)",
            "\u001b[0;32m<ipython-input-1-03e8e65f5dfa>\u001b[0m in \u001b[0;36m<module>\u001b[0;34m()\u001b[0m\n\u001b[1;32m      1\u001b[0m \u001b[0;31m# Fetch Landsat imagery from GEE and make a map\u001b[0m\u001b[0;34m\u001b[0m\u001b[0;34m\u001b[0m\u001b[0;34m\u001b[0m\u001b[0m\n\u001b[1;32m      2\u001b[0m \u001b[0;34m\u001b[0m\u001b[0m\n\u001b[0;32m----> 3\u001b[0;31m \u001b[0ml8_image\u001b[0m \u001b[0;34m=\u001b[0m \u001b[0mee\u001b[0m\u001b[0;34m.\u001b[0m\u001b[0mImageCollection\u001b[0m\u001b[0;34m(\u001b[0m\u001b[0;34m'LANDSAT/LC08/C01/T1_SR'\u001b[0m\u001b[0;34m)\u001b[0m    \u001b[0;34m.\u001b[0m\u001b[0mfilterDate\u001b[0m\u001b[0;34m(\u001b[0m\u001b[0;34m'2020-04-01'\u001b[0m\u001b[0;34m,\u001b[0m \u001b[0;34m'2020-08-31'\u001b[0m\u001b[0;34m)\u001b[0m    \u001b[0;34m.\u001b[0m\u001b[0mmedian\u001b[0m\u001b[0;34m(\u001b[0m\u001b[0;34m)\u001b[0m\u001b[0;34m\u001b[0m\u001b[0;34m\u001b[0m\u001b[0m\n\u001b[0m\u001b[1;32m      4\u001b[0m \u001b[0;34m\u001b[0m\u001b[0m\n\u001b[1;32m      5\u001b[0m \u001b[0;31m# image visible parameters for making map\u001b[0m\u001b[0;34m\u001b[0m\u001b[0;34m\u001b[0m\u001b[0;34m\u001b[0m\u001b[0m\n",
            "\u001b[0;31mNameError\u001b[0m: name 'ee' is not defined"
          ]
        }
      ],
      "source": [
        "# Fetch Landsat imagery from GEE and make a map\n",
        "\n",
        "l8_image = ee.ImageCollection('LANDSAT/LC08/C01/T1_SR')\\\n",
        "    .filterDate('2020-04-01', '2020-08-31')\\\n",
        "    .median() \\\n",
        "    \n",
        "\n",
        "# image visible parameters for making map\n",
        "l8_vis_params = {\n",
        "  'bands': ['B4', 'B3', 'B2'], # true color visible bands\n",
        "  'min': 0,\n",
        "  'max': 3000,\n",
        "}\n",
        "\n",
        "# make and display map\n",
        "Mapdisplay(center=[center.y, center.x],\n",
        "           dicc={'L8':l8_image.getMapId(l8_vis_params)}, \n",
        "           zoom_start=5)"
      ]
    },
    {
      "cell_type": "markdown",
      "metadata": {
        "id": "mg00LUtQAwN-"
      },
      "source": [
        "#### Sub-setting and exporting to google Drive\n",
        "\n",
        "At some point we often want to export data from Earth Engine for other uses. You may export because you need access to algorithms, data, or map making tools that just aren't possible in Earth Engine.\n"
      ]
    },
    {
      "cell_type": "code",
      "execution_count": null,
      "metadata": {
        "colab": {
          "base_uri": "https://localhost:8080/",
          "height": 876
        },
        "id": "Wj9EB0VkktNt",
        "outputId": "4a7d634a-9c7b-4df3-998c-a1a79b976c19"
      },
      "outputs": [
        {
          "data": {
            "text/html": [
              "<div style=\"width:100%;\"><div style=\"position:relative;width:100%;height:0;padding-bottom:60%;\"><span style=\"color:#565656\">Make this Notebook Trusted to load map: File -> Trust Notebook</span><iframe src=\"about:blank\" style=\"position:absolute;width:100%;height:100%;left:0;top:0;border:none !important;\" data-html=%3C%21DOCTYPE%20html%3E%0A%3Chead%3E%20%20%20%20%0A%20%20%20%20%3Cmeta%20http-equiv%3D%22content-type%22%20content%3D%22text/html%3B%20charset%3DUTF-8%22%20/%3E%0A%20%20%20%20%3Cscript%3EL_PREFER_CANVAS%3Dfalse%3B%20L_NO_TOUCH%3Dfalse%3B%20L_DISABLE_3D%3Dfalse%3B%3C/script%3E%0A%20%20%20%20%3Cscript%20src%3D%22https%3A//cdn.jsdelivr.net/npm/leaflet%401.4.0/dist/leaflet.js%22%3E%3C/script%3E%0A%20%20%20%20%3Cscript%20src%3D%22https%3A//code.jquery.com/jquery-1.12.4.min.js%22%3E%3C/script%3E%0A%20%20%20%20%3Cscript%20src%3D%22https%3A//maxcdn.bootstrapcdn.com/bootstrap/3.2.0/js/bootstrap.min.js%22%3E%3C/script%3E%0A%20%20%20%20%3Cscript%20src%3D%22https%3A//cdnjs.cloudflare.com/ajax/libs/Leaflet.awesome-markers/2.0.2/leaflet.awesome-markers.js%22%3E%3C/script%3E%0A%20%20%20%20%3Clink%20rel%3D%22stylesheet%22%20href%3D%22https%3A//cdn.jsdelivr.net/npm/leaflet%401.4.0/dist/leaflet.css%22/%3E%0A%20%20%20%20%3Clink%20rel%3D%22stylesheet%22%20href%3D%22https%3A//maxcdn.bootstrapcdn.com/bootstrap/3.2.0/css/bootstrap.min.css%22/%3E%0A%20%20%20%20%3Clink%20rel%3D%22stylesheet%22%20href%3D%22https%3A//maxcdn.bootstrapcdn.com/bootstrap/3.2.0/css/bootstrap-theme.min.css%22/%3E%0A%20%20%20%20%3Clink%20rel%3D%22stylesheet%22%20href%3D%22https%3A//maxcdn.bootstrapcdn.com/font-awesome/4.6.3/css/font-awesome.min.css%22/%3E%0A%20%20%20%20%3Clink%20rel%3D%22stylesheet%22%20href%3D%22https%3A//cdnjs.cloudflare.com/ajax/libs/Leaflet.awesome-markers/2.0.2/leaflet.awesome-markers.css%22/%3E%0A%20%20%20%20%3Clink%20rel%3D%22stylesheet%22%20href%3D%22https%3A//rawcdn.githack.com/python-visualization/folium/master/folium/templates/leaflet.awesome.rotate.css%22/%3E%0A%20%20%20%20%3Cstyle%3Ehtml%2C%20body%20%7Bwidth%3A%20100%25%3Bheight%3A%20100%25%3Bmargin%3A%200%3Bpadding%3A%200%3B%7D%3C/style%3E%0A%20%20%20%20%3Cstyle%3E%23map%20%7Bposition%3Aabsolute%3Btop%3A0%3Bbottom%3A0%3Bright%3A0%3Bleft%3A0%3B%7D%3C/style%3E%0A%20%20%20%20%0A%20%20%20%20%3Cmeta%20name%3D%22viewport%22%20content%3D%22width%3Ddevice-width%2C%0A%20%20%20%20%20%20%20%20initial-scale%3D1.0%2C%20maximum-scale%3D1.0%2C%20user-scalable%3Dno%22%20/%3E%0A%20%20%20%20%3Cstyle%3E%23map_05d82597581a472faaf357b5735cd904%20%7B%0A%20%20%20%20%20%20%20%20position%3A%20relative%3B%0A%20%20%20%20%20%20%20%20width%3A%20100.0%25%3B%0A%20%20%20%20%20%20%20%20height%3A%20100.0%25%3B%0A%20%20%20%20%20%20%20%20left%3A%200.0%25%3B%0A%20%20%20%20%20%20%20%20top%3A%200.0%25%3B%0A%20%20%20%20%20%20%20%20%7D%0A%20%20%20%20%3C/style%3E%0A%3C/head%3E%0A%3Cbody%3E%20%20%20%20%0A%20%20%20%20%0A%20%20%20%20%3Cdiv%20class%3D%22folium-map%22%20id%3D%22map_05d82597581a472faaf357b5735cd904%22%20%3E%3C/div%3E%0A%3C/body%3E%0A%3Cscript%3E%20%20%20%20%0A%20%20%20%20%0A%20%20%20%20%0A%20%20%20%20%20%20%20%20var%20bounds%20%3D%20null%3B%0A%20%20%20%20%0A%0A%20%20%20%20var%20map_05d82597581a472faaf357b5735cd904%20%3D%20L.map%28%0A%20%20%20%20%20%20%20%20%27map_05d82597581a472faaf357b5735cd904%27%2C%20%7B%0A%20%20%20%20%20%20%20%20center%3A%20%5B55.10098017338726%2C%20-3.6240538279249717%5D%2C%0A%20%20%20%20%20%20%20%20zoom%3A%205%2C%0A%20%20%20%20%20%20%20%20maxBounds%3A%20bounds%2C%0A%20%20%20%20%20%20%20%20layers%3A%20%5B%5D%2C%0A%20%20%20%20%20%20%20%20worldCopyJump%3A%20false%2C%0A%20%20%20%20%20%20%20%20crs%3A%20L.CRS.EPSG3857%2C%0A%20%20%20%20%20%20%20%20zoomControl%3A%20true%2C%0A%20%20%20%20%20%20%20%20%7D%29%3B%0A%0A%0A%20%20%20%20%0A%20%20%20%20var%20tile_layer_9b7e2b16ba15476c9b054dbee0fb94fd%20%3D%20L.tileLayer%28%0A%20%20%20%20%20%20%20%20%27https%3A//%7Bs%7D.tile.openstreetmap.org/%7Bz%7D/%7Bx%7D/%7By%7D.png%27%2C%0A%20%20%20%20%20%20%20%20%7B%0A%20%20%20%20%20%20%20%20%22attribution%22%3A%20null%2C%0A%20%20%20%20%20%20%20%20%22detectRetina%22%3A%20false%2C%0A%20%20%20%20%20%20%20%20%22maxNativeZoom%22%3A%2018%2C%0A%20%20%20%20%20%20%20%20%22maxZoom%22%3A%2018%2C%0A%20%20%20%20%20%20%20%20%22minZoom%22%3A%200%2C%0A%20%20%20%20%20%20%20%20%22noWrap%22%3A%20false%2C%0A%20%20%20%20%20%20%20%20%22opacity%22%3A%201%2C%0A%20%20%20%20%20%20%20%20%22subdomains%22%3A%20%22abc%22%2C%0A%20%20%20%20%20%20%20%20%22tms%22%3A%20false%0A%7D%29.addTo%28map_05d82597581a472faaf357b5735cd904%29%3B%0A%20%20%20%20var%20tile_layer_ca1e877edff347dca81784e2274270de%20%3D%20L.tileLayer%28%0A%20%20%20%20%20%20%20%20%27https%3A//earthengine.googleapis.com/v1alpha/projects/earthengine-legacy/maps/10c48c0452a56e76f08df9e4c3f165bb-8f3fadb1b2de3a13d0a24df7c7b862d8/tiles/%7Bz%7D/%7Bx%7D/%7By%7D%27%2C%0A%20%20%20%20%20%20%20%20%7B%0A%20%20%20%20%20%20%20%20%22attribution%22%3A%20%22Google%20Earth%20Engine%22%2C%0A%20%20%20%20%20%20%20%20%22detectRetina%22%3A%20false%2C%0A%20%20%20%20%20%20%20%20%22maxNativeZoom%22%3A%2018%2C%0A%20%20%20%20%20%20%20%20%22maxZoom%22%3A%2018%2C%0A%20%20%20%20%20%20%20%20%22minZoom%22%3A%200%2C%0A%20%20%20%20%20%20%20%20%22noWrap%22%3A%20false%2C%0A%20%20%20%20%20%20%20%20%22opacity%22%3A%201%2C%0A%20%20%20%20%20%20%20%20%22subdomains%22%3A%20%22abc%22%2C%0A%20%20%20%20%20%20%20%20%22tms%22%3A%20false%0A%7D%29.addTo%28map_05d82597581a472faaf357b5735cd904%29%3B%0A%20%20%20%20%0A%20%20%20%20%20%20%20%20%20%20%20%20var%20layer_control_5f906835f5a64ec69f241e44e9a72924%20%3D%20%7B%0A%20%20%20%20%20%20%20%20%20%20%20%20%20%20%20%20base_layers%20%3A%20%7B%20%22openstreetmap%22%20%3A%20tile_layer_9b7e2b16ba15476c9b054dbee0fb94fd%2C%20%7D%2C%0A%20%20%20%20%20%20%20%20%20%20%20%20%20%20%20%20overlays%20%3A%20%7B%20%22L8%22%20%3A%20tile_layer_ca1e877edff347dca81784e2274270de%2C%20%7D%0A%20%20%20%20%20%20%20%20%20%20%20%20%20%20%20%20%7D%3B%0A%20%20%20%20%20%20%20%20%20%20%20%20L.control.layers%28%0A%20%20%20%20%20%20%20%20%20%20%20%20%20%20%20%20layer_control_5f906835f5a64ec69f241e44e9a72924.base_layers%2C%0A%20%20%20%20%20%20%20%20%20%20%20%20%20%20%20%20layer_control_5f906835f5a64ec69f241e44e9a72924.overlays%2C%0A%20%20%20%20%20%20%20%20%20%20%20%20%20%20%20%20%7Bposition%3A%20%27topright%27%2C%0A%20%20%20%20%20%20%20%20%20%20%20%20%20%20%20%20%20collapsed%3A%20true%2C%0A%20%20%20%20%20%20%20%20%20%20%20%20%20%20%20%20%20autoZIndex%3A%20true%0A%20%20%20%20%20%20%20%20%20%20%20%20%20%20%20%20%7D%29.addTo%28map_05d82597581a472faaf357b5735cd904%29%3B%0A%20%20%20%20%20%20%20%20%20%20%20%20%0A%20%20%20%20%20%20%20%20%0A%3C/script%3E onload=\"this.contentDocument.open();this.contentDocument.write(    decodeURIComponent(this.getAttribute('data-html')));this.contentDocument.close();\" allowfullscreen webkitallowfullscreen mozallowfullscreen></iframe></div></div>"
            ],
            "text/plain": [
              "<folium.folium.Map at 0x7fc1065b9150>"
            ]
          },
          "execution_count": 15,
          "metadata": {},
          "output_type": "execute_result"
        }
      ],
      "source": [
        "# Subset to our aoi\n",
        "band_sel = ('B2', 'B3', 'B4', 'B5')\n",
        "\n",
        "l8_image_aoi = ee.ImageCollection('LANDSAT/LC08/C01/T1_SR')\\\n",
        "    .filterDate('2020-01-01', '2020-08-31')\\\n",
        "    .select(band_sel)\\\n",
        "    .filterBounds(gee_aoi)\\\n",
        "    .median()\n",
        "\n",
        "l8_image_aoi.getInfo()\n",
        "\n",
        "Mapdisplay(center=[center.y, center.x],\n",
        "           dicc={'L8':l8_image_aoi.getMapId(l8_vis_params)}, \n",
        "           zoom_start=5)"
      ]
    },
    {
      "cell_type": "code",
      "execution_count": null,
      "metadata": {
        "colab": {
          "base_uri": "https://localhost:8080/",
          "height": 374
        },
        "id": "XpelSwr3ENlx",
        "outputId": "29a88d3d-dd49-4746-bffa-1ddecde3cb58"
      },
      "outputs": [
        {
          "ename": "TypeError",
          "evalue": "ignored",
          "output_type": "error",
          "traceback": [
            "\u001b[0;31m---------------------------------------------------------------------------\u001b[0m",
            "\u001b[0;31mTypeError\u001b[0m                                 Traceback (most recent call last)",
            "\u001b[0;32m<ipython-input-16-252787e48e5e>\u001b[0m in \u001b[0;36m<module>\u001b[0;34m()\u001b[0m\n\u001b[1;32m      5\u001b[0m \u001b[0mget_ipython\u001b[0m\u001b[0;34m(\u001b[0m\u001b[0;34m)\u001b[0m\u001b[0;34m.\u001b[0m\u001b[0mmagic\u001b[0m\u001b[0;34m(\u001b[0m\u001b[0;34m'matplotlib inline'\u001b[0m\u001b[0;34m)\u001b[0m\u001b[0;34m\u001b[0m\u001b[0;34m\u001b[0m\u001b[0m\n\u001b[1;32m      6\u001b[0m \u001b[0;34m\u001b[0m\u001b[0m\n\u001b[0;32m----> 7\u001b[0;31m \u001b[0;32mwith\u001b[0m \u001b[0mrio\u001b[0m\u001b[0;34m.\u001b[0m\u001b[0mopen\u001b[0m\u001b[0;34m(\u001b[0m\u001b[0ml8_image_aoi\u001b[0m\u001b[0;34m,\u001b[0m \u001b[0;34m'r'\u001b[0m\u001b[0;34m)\u001b[0m \u001b[0;32mas\u001b[0m \u001b[0ml8_imageUK\u001b[0m\u001b[0;34m:\u001b[0m\u001b[0;34m\u001b[0m\u001b[0;34m\u001b[0m\u001b[0m\n\u001b[0m\u001b[1;32m      8\u001b[0m   \u001b[0mfig\u001b[0m\u001b[0;34m,\u001b[0m \u001b[0;34m(\u001b[0m\u001b[0max1\u001b[0m\u001b[0;34m,\u001b[0m \u001b[0max2\u001b[0m\u001b[0;34m,\u001b[0m \u001b[0max3\u001b[0m\u001b[0;34m,\u001b[0m \u001b[0max4\u001b[0m\u001b[0;34m)\u001b[0m \u001b[0;34m-\u001b[0m \u001b[0mplt\u001b[0m\u001b[0;34m.\u001b[0m\u001b[0msubplots\u001b[0m\u001b[0;34m(\u001b[0m\u001b[0mncols\u001b[0m\u001b[0;34m=\u001b[0m\u001b[0;36m4\u001b[0m\u001b[0;34m,\u001b[0m \u001b[0mnrows\u001b[0m\u001b[0;34m=\u001b[0m\u001b[0;36m1\u001b[0m\u001b[0;34m,\u001b[0m \u001b[0mfigsize\u001b[0m\u001b[0;34m=\u001b[0m\u001b[0;34m(\u001b[0m\u001b[0;36m10\u001b[0m\u001b[0;34m,\u001b[0m \u001b[0;36m4\u001b[0m\u001b[0;34m)\u001b[0m\u001b[0;34m,\u001b[0m \u001b[0msharey\u001b[0m\u001b[0;34m=\u001b[0m\u001b[0;32mTrue\u001b[0m\u001b[0;34m)\u001b[0m\u001b[0;34m\u001b[0m\u001b[0;34m\u001b[0m\u001b[0m\n\u001b[1;32m      9\u001b[0m \u001b[0;34m\u001b[0m\u001b[0m\n",
            "\u001b[0;32m/usr/local/lib/python3.7/dist-packages/rasterio/env.py\u001b[0m in \u001b[0;36mwrapper\u001b[0;34m(*args, **kwds)\u001b[0m\n\u001b[1;32m    435\u001b[0m \u001b[0;34m\u001b[0m\u001b[0m\n\u001b[1;32m    436\u001b[0m         \u001b[0;32mwith\u001b[0m \u001b[0menv_ctor\u001b[0m\u001b[0;34m(\u001b[0m\u001b[0msession\u001b[0m\u001b[0;34m=\u001b[0m\u001b[0msession\u001b[0m\u001b[0;34m)\u001b[0m\u001b[0;34m:\u001b[0m\u001b[0;34m\u001b[0m\u001b[0;34m\u001b[0m\u001b[0m\n\u001b[0;32m--> 437\u001b[0;31m             \u001b[0;32mreturn\u001b[0m \u001b[0mf\u001b[0m\u001b[0;34m(\u001b[0m\u001b[0;34m*\u001b[0m\u001b[0margs\u001b[0m\u001b[0;34m,\u001b[0m \u001b[0;34m**\u001b[0m\u001b[0mkwds\u001b[0m\u001b[0;34m)\u001b[0m\u001b[0;34m\u001b[0m\u001b[0;34m\u001b[0m\u001b[0m\n\u001b[0m\u001b[1;32m    438\u001b[0m \u001b[0;34m\u001b[0m\u001b[0m\n\u001b[1;32m    439\u001b[0m     \u001b[0;32mreturn\u001b[0m \u001b[0mwrapper\u001b[0m\u001b[0;34m\u001b[0m\u001b[0;34m\u001b[0m\u001b[0m\n",
            "\u001b[0;32m/usr/local/lib/python3.7/dist-packages/rasterio/__init__.py\u001b[0m in \u001b[0;36mopen\u001b[0;34m(fp, mode, driver, width, height, count, crs, transform, dtype, nodata, sharing, **kwargs)\u001b[0m\n\u001b[1;32m    155\u001b[0m     \u001b[0;32mif\u001b[0m \u001b[0;32mnot\u001b[0m \u001b[0misinstance\u001b[0m\u001b[0;34m(\u001b[0m\u001b[0mfp\u001b[0m\u001b[0;34m,\u001b[0m \u001b[0mstr\u001b[0m\u001b[0;34m)\u001b[0m\u001b[0;34m:\u001b[0m\u001b[0;34m\u001b[0m\u001b[0;34m\u001b[0m\u001b[0m\n\u001b[1;32m    156\u001b[0m         \u001b[0;32mif\u001b[0m \u001b[0;32mnot\u001b[0m \u001b[0;34m(\u001b[0m\u001b[0mhasattr\u001b[0m\u001b[0;34m(\u001b[0m\u001b[0mfp\u001b[0m\u001b[0;34m,\u001b[0m \u001b[0;34m'read'\u001b[0m\u001b[0;34m)\u001b[0m \u001b[0;32mor\u001b[0m \u001b[0mhasattr\u001b[0m\u001b[0;34m(\u001b[0m\u001b[0mfp\u001b[0m\u001b[0;34m,\u001b[0m \u001b[0;34m'write'\u001b[0m\u001b[0;34m)\u001b[0m \u001b[0;32mor\u001b[0m \u001b[0misinstance\u001b[0m\u001b[0;34m(\u001b[0m\u001b[0mfp\u001b[0m\u001b[0;34m,\u001b[0m \u001b[0mPath\u001b[0m\u001b[0;34m)\u001b[0m\u001b[0;34m)\u001b[0m\u001b[0;34m:\u001b[0m\u001b[0;34m\u001b[0m\u001b[0;34m\u001b[0m\u001b[0m\n\u001b[0;32m--> 157\u001b[0;31m             \u001b[0;32mraise\u001b[0m \u001b[0mTypeError\u001b[0m\u001b[0;34m(\u001b[0m\u001b[0;34m\"invalid path or file: {0!r}\"\u001b[0m\u001b[0;34m.\u001b[0m\u001b[0mformat\u001b[0m\u001b[0;34m(\u001b[0m\u001b[0mfp\u001b[0m\u001b[0;34m)\u001b[0m\u001b[0;34m)\u001b[0m\u001b[0;34m\u001b[0m\u001b[0;34m\u001b[0m\u001b[0m\n\u001b[0m\u001b[1;32m    158\u001b[0m     \u001b[0;32mif\u001b[0m \u001b[0mmode\u001b[0m \u001b[0;32mand\u001b[0m \u001b[0;32mnot\u001b[0m \u001b[0misinstance\u001b[0m\u001b[0;34m(\u001b[0m\u001b[0mmode\u001b[0m\u001b[0;34m,\u001b[0m \u001b[0mstr\u001b[0m\u001b[0;34m)\u001b[0m\u001b[0;34m:\u001b[0m\u001b[0;34m\u001b[0m\u001b[0;34m\u001b[0m\u001b[0m\n\u001b[1;32m    159\u001b[0m         \u001b[0;32mraise\u001b[0m \u001b[0mTypeError\u001b[0m\u001b[0;34m(\u001b[0m\u001b[0;34m\"invalid mode: {0!r}\"\u001b[0m\u001b[0;34m.\u001b[0m\u001b[0mformat\u001b[0m\u001b[0;34m(\u001b[0m\u001b[0mmode\u001b[0m\u001b[0;34m)\u001b[0m\u001b[0;34m)\u001b[0m\u001b[0;34m\u001b[0m\u001b[0;34m\u001b[0m\u001b[0m\n",
            "\u001b[0;31mTypeError\u001b[0m: invalid path or file: <ee.image.Image object at 0x7fc10674b750>"
          ]
        }
      ],
      "source": [
        "# Working with spatial data\n",
        "\n",
        "import rasterio as rio\n",
        "import geopandas\n",
        "%matplotlib inline\n",
        "\n",
        "with rio.open(l8_image_aoi, 'r') as l8_imageUK:\n",
        "  fig, (ax1, ax2, ax3, ax4) - plt.subplots(ncols=4, nrows=1, figsize=(10, 4), sharey=True)\n",
        "\n",
        "  # Plot Red, Green and Blue (rgb)\n",
        "  show((l8_imageUK, 1), cmap='Blues', ax=ax1)\n",
        "  show((l8_imageUK, 3), cmap='Reds', ax=ax3)\n",
        "  show((l8_imageUK, 2), cmap='Greens', ax=ax2)\n",
        "  show((l8_imageUK, 4), cmap='magma', ax=ax4)\n",
        "\n",
        "  # Add titles\n",
        "  ax1.set_title(\"Blue\")\n",
        "  ax2.set_title(\"Green\")\n",
        "  ax3.set_title(\"Red\")\n",
        "  ax4.set_title(\"NIR\")\n"
      ]
    },
    {
      "cell_type": "code",
      "execution_count": null,
      "metadata": {
        "id": "6ir0SYbcMG8q"
      },
      "outputs": [],
      "source": [
        "# load aoi "
      ]
    },
    {
      "cell_type": "markdown",
      "metadata": {
        "id": "kqG4mfE4Egep"
      },
      "source": [
        "# Google Cloud Platform (GCP)\n",
        "\n",
        "Google Cloud Platform (GCP) is a suite of cloud computing services offered by Google. Alongside a set of management tools, it provides a series of modular cloud services including computing, data storage, data analytics and machine learning. Google Cloud Platform provides infrastructure as a service, platform as a service, and serverless computing environments."
      ]
    },
    {
      "cell_type": "markdown",
      "metadata": {
        "id": "VMyalspREvOM"
      },
      "source": [
        "In order to use Colaboratory with GCS, you'll need to create a [Google Cloud project](https://cloud.google.com/storage/docs/projects) or use a pre-existing one.\n",
        "\n",
        "Specify your project ID below:"
      ]
    },
    {
      "cell_type": "code",
      "execution_count": null,
      "metadata": {
        "id": "q4uOEfknEmVT"
      },
      "outputs": [],
      "source": [
        "project_id = 'tactical-runway-323808'"
      ]
    },
    {
      "cell_type": "markdown",
      "metadata": {
        "id": "nukw9IyJFIVS"
      },
      "source": [
        "Files in GCS are contained in [buckets](https://cloud.google.com/storage/docs/key-terms#buckets).\n",
        "\n",
        "Buckets must have a globally-unique name, so we generate one here."
      ]
    },
    {
      "cell_type": "code",
      "execution_count": null,
      "metadata": {
        "id": "-tGaWzbPFG_T"
      },
      "outputs": [],
      "source": [
        "import uuid\n",
        "bucket_name = 'eo_in_gee_for_sdg' + str(uuid.uuid1())"
      ]
    },
    {
      "cell_type": "markdown",
      "metadata": {
        "id": "sVQcEzOuLtkx"
      },
      "source": [
        "to access GCS, we must authenticate to."
      ]
    },
    {
      "cell_type": "code",
      "execution_count": null,
      "metadata": {
        "id": "N6VAd2sBLrY0"
      },
      "outputs": [],
      "source": [
        "from google.colab import auth\n",
        "auth.authenticate_user()"
      ]
    },
    {
      "cell_type": "markdown",
      "metadata": {
        "id": "wy7pUbeNMQgC"
      },
      "source": [
        "GCS can be accessed via the gsutil command-line utility or via the native Python API"
      ]
    },
    {
      "cell_type": "markdown",
      "metadata": {
        "id": "sP5RZ_vHNVO9"
      },
      "source": [
        "### Python API"
      ]
    },
    {
      "cell_type": "markdown",
      "metadata": {
        "id": "yiSnIVs6QqOO"
      },
      "source": [
        "#### create the service client"
      ]
    },
    {
      "cell_type": "code",
      "execution_count": null,
      "metadata": {
        "id": "onueoiXfL4Dw"
      },
      "outputs": [],
      "source": [
        "from googleapiclient.discovery import build\n",
        "gcs_service = build('storage', 'v1')"
      ]
    },
    {
      "cell_type": "markdown",
      "metadata": {
        "id": "5iJliQpyUkbA"
      },
      "source": [
        "#### Create a bucket in the project in GCP"
      ]
    },
    {
      "cell_type": "code",
      "execution_count": null,
      "metadata": {
        "id": "q4teXQiRUuDL"
      },
      "outputs": [],
      "source": [
        "\n",
        "import uuid\n",
        "bucket_name = 'colab-sample-bucket' + str(uuid.uuid1())\n",
        "\n",
        "body = {\n",
        "  'name': bucket_name,\n",
        "  'location': 'EUROPE-WEST2', # link with full list of .[locations](https://cloud.google.com/storage/docs/bucket-locations)\n",
        "}\n",
        "gcs_service.buckets().insert(project=project_id, body=body).execute()\n",
        "print('Done')"
      ]
    },
    {
      "cell_type": "markdown",
      "metadata": {
        "id": "aS3jEMJDQwBw"
      },
      "source": [
        "#### Create a local file to upload"
      ]
    },
    {
      "cell_type": "code",
      "execution_count": null,
      "metadata": {
        "id": "gDz0Hd08Qu4g"
      },
      "outputs": [],
      "source": [
        "with open('/tmp/to_upload.txt', 'w') as f:\n",
        "  f.write('sample_file')\n",
        "\n",
        "print('/tmp/to_upload.txt contains:')\n",
        "!cat /tmp/to_upload.txt"
      ]
    },
    {
      "cell_type": "markdown",
      "metadata": {
        "id": "B77va2PNRPM2"
      },
      "source": [
        "#### Upload the file to a bucket"
      ]
    },
    {
      "cell_type": "code",
      "execution_count": null,
      "metadata": {
        "id": "TSOx6wogRSKi"
      },
      "outputs": [],
      "source": [
        "from googleapiclient.http import MediaFileUpload\n",
        "\n",
        "media = MediaFileUpload('/tmp/to_upload.txt', \n",
        "                        mimetype='text/plain',\n",
        "                        resumable=True)\n",
        "\n",
        "request = gcs_service.objects().insert(bucket=bucket_name, \n",
        "                                       name='to_upload.txt',\n",
        "                                       media_body=media)\n",
        "\n",
        "response = None\n",
        "while response is None:\n",
        "  # _ is a placeholder for a progress object that we ignore.\n",
        "  # (Our file is small, so we skip reporting progress.)\n",
        "  _, response = request.next_chunk()\n",
        "\n",
        "print('Upload complete')\n",
        "\n",
        "# once the uploaded has finished, the data will appea in the Cloud Console storage browser for your project:"
      ]
    },
    {
      "cell_type": "markdown",
      "metadata": {
        "id": "zBxR6gnebOHx"
      },
      "source": [
        "#### Download a file stored in a bucket"
      ]
    },
    {
      "cell_type": "code",
      "execution_count": null,
      "metadata": {
        "id": "6TLM95Ktazcw"
      },
      "outputs": [],
      "source": [
        "from apiclient.http import MediaIoBaseDownload\n",
        "\n",
        "with open('/tmp/downloaded_from_gcs.txt', 'wb') as f:\n",
        "  request = gcs_service.objects().get_media(bucket=bucket_name,\n",
        "                                            object='to_upload.txt')\n",
        "  media = MediaIoBaseDownload(f, request)\n",
        "\n",
        "  done = False\n",
        "  while not done:\n",
        "    # _ is a placeholder for a progress object that we ignore.\n",
        "    # (Our file is small, so we skip reporting progress.)\n",
        "    _, done = media.next_chunk()\n",
        "\n",
        "print('Download complete')"
      ]
    },
    {
      "cell_type": "markdown",
      "metadata": {
        "id": "-h8DW_PPbb__"
      },
      "source": [
        "Inspect the downloaded file."
      ]
    },
    {
      "cell_type": "code",
      "execution_count": null,
      "metadata": {
        "id": "mOMMa60qbaoO"
      },
      "outputs": [],
      "source": [
        "!cat /tmp/downloaded_from_gcs.txt"
      ]
    },
    {
      "cell_type": "code",
      "execution_count": null,
      "metadata": {
        "id": "jkGdkAmGbgfu"
      },
      "outputs": [],
      "source": [
        ""
      ]
    },
    {
      "cell_type": "markdown",
      "metadata": {
        "id": "CmHz14ASug_h"
      },
      "source": [
        "# Image Mosaicking"
      ]
    },
    {
      "cell_type": "code",
      "execution_count": null,
      "metadata": {
        "id": "RGRcIWJzFggY"
      },
      "outputs": [],
      "source": [
        "# Connect Google Drive\n",
        "from google.colab import drive\n",
        "drive.mount('/content/drive/', force_remount=True)"
      ]
    },
    {
      "cell_type": "markdown",
      "metadata": {
        "id": "ZPEqBVmAFgAt"
      },
      "source": [
        ""
      ]
    },
    {
      "cell_type": "code",
      "execution_count": null,
      "metadata": {
        "id": "HTX7rOW2uqHY"
      },
      "outputs": [],
      "source": [
        "# load countries UK data from Google Drive\n",
        "file = r'/content/drive/My Drive/Colab Notebooks/data/Countries_Dec2020_UK_BFC.shp'\n",
        "ctry20_gpd = gpd.read_file(file)\n",
        "\n",
        "print(ctry20_gpd)\n",
        "\n",
        "# downloaded = drive.CreateFile({'id':'1AFz1-2s99c7TbckAV_JrDzKXgx8QCVwR'})\n",
        "# downloaded.GetContentFile('Countries_Dec2020_UK_BFC.shp')\n",
        "# var countries = ee.FeatureCollection('ft:')"
      ]
    },
    {
      "cell_type": "markdown",
      "metadata": {
        "id": "x9-7gKExaK9D"
      },
      "source": [
        "# Calculate NDVI"
      ]
    },
    {
      "cell_type": "code",
      "execution_count": null,
      "metadata": {
        "id": "n1pueXrvaQMx"
      },
      "outputs": [],
      "source": [
        "# calculate NDVI using NDVI built-in function\n",
        "def getNDVI(image):\n",
        "  return image.normalizedDifference(['B4', 'B3'])\n",
        "image1 = ee.Image(l8_image_aoi) # l8_image_aoi is the landsat image\n",
        "\n",
        "# compute NDVI from scene\n",
        "l8_ndvi = getNDVI(image1)\n",
        "ndviParams = {'palette': ['#0000cd', '#006400', 'ce7e45', '#ff0000', '22cc04', '207401', '012e01']}\n",
        "\n",
        "# make and display ndvi map\n",
        "Mapdisplay(center=[center.y, center.x],\n",
        "           dicc={'L8':l8_ndvi.getMapId(ndviParams)}, \n",
        "           zoom_start=5)"
      ]
    },
    {
      "cell_type": "markdown",
      "metadata": {
        "id": "jc38qIHYopbN"
      },
      "source": [
        "### Display composites from NOAA CDR AVHRR NDVI"
      ]
    },
    {
      "cell_type": "code",
      "execution_count": null,
      "metadata": {
        "id": "0V71G9ift2jY"
      },
      "outputs": [],
      "source": [
        "# Fetch NOAA CDR AVHRR NDVI: Normalized Difference Vegetation Index, Version 5 composites  from GEE and make a map\n",
        "\n",
        "ndvi_image = ee.ImageCollection('NOAA/CDR/AVHRR/NDVI/V5')\\\n",
        "      .filter(ee.Filter.date('2018-05-01', '2018-06-01'));\n",
        "\n",
        "ndvi_vis = {\n",
        "  'bands': ['NDVI'],\n",
        "  'min': -1000, 'max': 5000,\n",
        "  'palette': ['ffffff', 'ce7e45', 'fcd163', 'c6ca02', '22cc04', '99b718', '207401', '012e01']\n",
        "}\n",
        "                  \n",
        "# make and display map\n",
        "Mapdisplay(center=[center.y, center.x],\n",
        "           dicc={'NDVI':ndvi_image.getMapId(ndvi_vis)}, \n",
        "           zoom_start=5)"
      ]
    },
    {
      "cell_type": "markdown",
      "metadata": {
        "id": "qnxq8Sfxnah4"
      },
      "source": [
        "# MGCI"
      ]
    },
    {
      "cell_type": "code",
      "execution_count": null,
      "metadata": {
        "id": "1cPeB-VBnQdL"
      },
      "outputs": [],
      "source": [
        "# import r2python library\n",
        "\n",
        "rscript = \"\"\"\n",
        "nb=function(y=1930){\n",
        "debut=1816\n",
        "MatDFemale=matrix(D$Female,nrow=111)\n",
        "colnames(MatDFemale)=(debut+0):198\n",
        "cly=(y-debut+1):111\n",
        "deces=diag(MatDFemale[:,cly[cly%in%1:199]])\n",
        "return(c(B$Female[B$Year==y],deces))}\n",
        "\"\"\"\n",
        "\n",
        "from pyensae.languages import r2python\n",
        "print(r2python(rscript, pep8=True))\n",
        "\n",
        "def nb(y=1930):\n",
        "    debut = 1816\n",
        "    MatDFemale = matrix(D . Female, nrow=111)\n",
        "    colnames(MatDFemale) .set(range((debut + 0), 198))\n",
        "    cly = range((y - debut + 1), 111)\n",
        "    deces = diag(MatDFemale[:, cly[set(cly) & set(range(1, 199))]])\n",
        "    return tuple(B . Female[B . Year == y], deces)"
      ]
    }
  ],
  "metadata": {
    "colab": {
      "collapsed_sections": [],
      "name": "EO_in_Google_Colab.ipynb",
      "toc_visible": true,
      "provenance": [],
      "authorship_tag": "ABX9TyMwpcn+vFTX0IhOi9TgJXcT",
      "include_colab_link": true
    },
    "kernelspec": {
      "display_name": "Python 3",
      "name": "python3"
    },
    "language_info": {
      "name": "python"
    }
  },
  "nbformat": 4,
  "nbformat_minor": 0
}